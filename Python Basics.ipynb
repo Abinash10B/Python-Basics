{
 "cells": [
  {
   "cell_type": "raw",
   "id": "5ba21154-c586-45ec-8b77-1d4b345a7d1c",
   "metadata": {},
   "source": [
    "PYTHON BASIC QUESTIONS:"
   ]
  },
  {
   "cell_type": "raw",
   "id": "53d00f97-0747-4ff9-886e-258fb00c7d64",
   "metadata": {},
   "source": [
    "1.What is Python,and why is it popular?\n",
    "Ans-> Python is a high-level, interpreted programming language known for its readability,ease of use and understand. It's popular due to its simple syntax, extensive libraries,open source and used in various fields like DSA,data science and machine learning."
   ]
  },
  {
   "cell_type": "raw",
   "id": "648351ad-c6ac-4959-bedb-a0c0f6fad933",
   "metadata": {},
   "source": [
    "2.What is an interpreter in Python?\n",
    "Ans-> A python interpreter is a computer program that converts high-level program statement into machine code and also execute the code line by line."
   ]
  },
  {
   "cell_type": "raw",
   "id": "f7bdb299-b87e-40b8-bcc3-d86eb9d66d70",
   "metadata": {},
   "source": [
    "3.What are pre-defined keywords in Python?\n",
    "Ans->Keywords in Python are reserved words that have specific meanings and purposes within the language's syntax. Some of the key words are if,else,while,break and continue."
   ]
  },
  {
   "cell_type": "raw",
   "id": "9532e955-7a78-4e72-bd83-bf25a441c32b",
   "metadata": {},
   "source": [
    "4.Can keywords be used as variable names?\n",
    "Ans->No,we can't use keyword as a variable name otherwise it shows error."
   ]
  },
  {
   "cell_type": "raw",
   "id": "2b820d61-734d-4bbf-abe7-2e8054ac2e32",
   "metadata": {},
   "source": [
    "5.What is mutability in Python?\n",
    "Ans->Mutability refers to whether an  object's value can be changed after it is created.Ex-List,Set,Dictionaries."
   ]
  },
  {
   "cell_type": "raw",
   "id": "9753eefc-d145-4af5-ac46-f2af9b432d67",
   "metadata": {},
   "source": [
    "6.Why are lists mutable, but tuples are immutable?\n",
    "Ans-> lists are mutable because they are designed to allow  the modification of data so there is no need to create a new list object when some want to update or modify the same list.Where as tuple are immutable because there are some data which don't need modification so that's why tuples are used to store such data."
   ]
  },
  {
   "cell_type": "raw",
   "id": "6c3ddebd-54d3-41fc-ad13-8928fee0d9a0",
   "metadata": {},
   "source": [
    "7.What is the difference between “==” and “is” operators in Python?\n",
    "Ans-> The '=='operator checks for equality of values which means it evaluates whether the values of two objects are the same. But is operator checks for identity, meaning it determines whether two variables point to the same object in memory or not."
   ]
  },
  {
   "cell_type": "raw",
   "id": "29ee07da-9266-4b98-a743-032ee1aacc2c",
   "metadata": {},
   "source": [
    "8.What are logical operators in Python?\n",
    "Ans->Logical operators in Python are used to combine conditional statements and evaluate the truthiness of expressions.They return True or False as a output.Some common logical operators are AND,OR and NOT."
   ]
  },
  {
   "cell_type": "raw",
   "id": "73de3d9f-b1b1-4f28-9290-75279db2a4e7",
   "metadata": {},
   "source": [
    "9.What is type casting in Python?\n",
    "Ans->Type casting is the process of changing a variable's data type from one type to another.There are two types Implicit and explicit type casting."
   ]
  },
  {
   "cell_type": "raw",
   "id": "7eac1128-3e0a-4af3-846c-6e2bfab9fdf4",
   "metadata": {},
   "source": [
    "10.What is the difference between implicit and explicit type casting?\n",
    "Ans->Implicit type casting is performed automatically by the Python interpreter, while explicit type casting requires the programmer to use the built-in functions like int(),float(),str(),list()etc."
   ]
  },
  {
   "cell_type": "raw",
   "id": "9a17e0bc-579a-43fc-8d5a-83a6759d986e",
   "metadata": {},
   "source": [
    "11.What is the purpose of conditional statements in Python?\n",
    "Ans->Conditonal statemets provide to control the flow of execution of a program by providing a program to make decisions based on whether the conditons is true or false.Ex-if,esle and elif."
   ]
  },
  {
   "cell_type": "raw",
   "id": "02339b08-4b08-41fb-bc79-ec6fd8d078e4",
   "metadata": {},
   "source": [
    "12.How does the elif statement work?\n",
    "Ans->The code first evaluates the condition in the if statement. If it's true, the corresponding code block is executed, and the rest of the elif and else blocks are skipped.If the initial if condition is false, the code moves to the first elif condition. If this condition is true, its corresponding code block is executed, and the remaining elif and else blocks are skipped."
   ]
  },
  {
   "cell_type": "raw",
   "id": "fe664923-e1f8-46dc-a2f6-2c77bd11b894",
   "metadata": {},
   "source": [
    "13.What is the difference between for and while loops?\n",
    "Ans->For loops are typically used when you know how many times you want to iterate or when you need to process each element of a sequence, while while loops are used when you want to repeat a block of code until a certain condition is met, which may not be a predetermined number of times. "
   ]
  },
  {
   "cell_type": "raw",
   "id": "c31eecae-4fc8-483f-a2dc-139770d87cf1",
   "metadata": {},
   "source": [
    "14.Describe a scenario where a while loop is more suitable than a for loop.\n",
    "Ans->Situations where the number of iterations is not predetermined and depends on some dynamic condition there while loop is used instead of for loop."
   ]
  },
  {
   "cell_type": "raw",
   "id": "6025a634-e4bf-487b-89c9-b8b683ac8c4a",
   "metadata": {},
   "source": [
    "PRACTICAL QUESTIONS:"
   ]
  },
  {
   "cell_type": "code",
   "execution_count": 2,
   "id": "b1e374af-50ba-479a-b798-4853d4c4cf93",
   "metadata": {},
   "outputs": [
    {
     "name": "stdout",
     "output_type": "stream",
     "text": [
      "Hello World\n"
     ]
    }
   ],
   "source": [
    "#1.Write a program to print hello world.\n",
    "print(\"Hello World\")"
   ]
  },
  {
   "cell_type": "code",
   "execution_count": 4,
   "id": "d1e54180-25de-479d-a0c0-c575b3f202cf",
   "metadata": {},
   "outputs": [
    {
     "name": "stdin",
     "output_type": "stream",
     "text": [
      "enter name: Abinash\n",
      "enter age: 21\n"
     ]
    },
    {
     "name": "stdout",
     "output_type": "stream",
     "text": [
      "name='Abinash' and age=21\n"
     ]
    }
   ],
   "source": [
    "#2.Write a Python program that displays your name and age.\n",
    "name=input(\"enter name:\")\n",
    "age=int(input(\"enter age:\"))\n",
    "print(f'{name=} and {age=}')"
   ]
  },
  {
   "cell_type": "code",
   "execution_count": 5,
   "id": "1f9285f3-2724-4f76-9bf0-c46fcc4a0296",
   "metadata": {},
   "outputs": [
    {
     "name": "stdout",
     "output_type": "stream",
     "text": [
      "['False', 'None', 'True', 'and', 'as', 'assert', 'async', 'await', 'break', 'class', 'continue', 'def', 'del', 'elif', 'else', 'except', 'finally', 'for', 'from', 'global', 'if', 'import', 'in', 'is', 'lambda', 'nonlocal', 'not', 'or', 'pass', 'raise', 'return', 'try', 'while', 'with', 'yield']\n"
     ]
    }
   ],
   "source": [
    "#3.Write code to print all the pre-defined keywords in Python using the keyword library.\n",
    "import keyword\n",
    "print(keyword.kwlist)"
   ]
  },
  {
   "cell_type": "code",
   "execution_count": 6,
   "id": "6fba6a2e-4f01-4721-b07f-f0eaaa7478bd",
   "metadata": {},
   "outputs": [
    {
     "name": "stdin",
     "output_type": "stream",
     "text": [
      " break\n"
     ]
    },
    {
     "name": "stdout",
     "output_type": "stream",
     "text": [
      "'break' is a Python keyword.\n"
     ]
    }
   ],
   "source": [
    "#4.Write a program that checks if a given word is a Python keyword.\n",
    "import keyword\n",
    "s =input()\n",
    "if keyword.iskeyword(s):\n",
    "    print(f\"'{s}' is a Python keyword.\")\n",
    "else:\n",
    "    print(f\"'{s}' is not a Python keyword.\")"
   ]
  },
  {
   "cell_type": "code",
   "execution_count": 9,
   "id": "ee06d3aa-8573-4908-8486-877d1900fd33",
   "metadata": {},
   "outputs": [
    {
     "name": "stdout",
     "output_type": "stream",
     "text": [
      "Original list: [1, 2, 3]\n",
      "List after changing element: [1, 20, 3]\n",
      "Original tuple: (1, 2, 3)\n",
      "Error\n"
     ]
    }
   ],
   "source": [
    "#5.Create a list and tuple in Python, and demonstrate how attempting to change an element works differently for each.\n",
    "#list\n",
    "list1 = [1, 2, 3]\n",
    "print(\"Original list:\", list1)\n",
    "# Changing an element in the list\n",
    "list1[1] = 20\n",
    "print(\"List after changing element:\", list1)\n",
    "#Tuple\n",
    "tuple1 = (1, 2, 3)\n",
    "print(\"Original tuple:\", tuple1)\n",
    "# Attempting to change an element in the tuple will raise an error beacause tuples are immutable\n",
    "try:\n",
    "    tuple1[1] = 20\n",
    "except TypeError:\n",
    "    print(\"Error\")"
   ]
  },
  {
   "cell_type": "code",
   "execution_count": 21,
   "id": "61184636-18de-4ebf-b453-a0498ec3ce09",
   "metadata": {},
   "outputs": [
    {
     "name": "stdout",
     "output_type": "stream",
     "text": [
      "Before function call:\n",
      "Immutable: 10\n",
      "Mutable: [1, 2, 3]\n",
      "Inside function:\n",
      "Immutable: 11\n",
      "Mutable: [99, 2, 3, 4]\n",
      "After function call:\n",
      "Immutable: 10\n",
      "Mutable: [99, 2, 3, 4]\n"
     ]
    }
   ],
   "source": [
    "#6. Write a function to demonstrate the behavior of mutable and immutable arguments.\n",
    "def demonstrate(immutable_arg, mutable_arg):\n",
    "    # Attempt to modify the immutable argument (will not affect the original)\n",
    "    immutable_arg = immutable_arg + 1\n",
    "    # Modify the mutable argument (will affect the original)\n",
    "    mutable_arg.append(4)\n",
    "    mutable_arg[0] = 99\n",
    "    \n",
    "    print(\"Inside function:\")\n",
    "    print(\"Immutable:\", immutable_arg)\n",
    "    print(\"Mutable:\", mutable_arg)\n",
    "\n",
    "#Driver code\n",
    "immutable_var = 10\n",
    "mutable_var = [1, 2, 3]\n",
    "\n",
    "print(\"Before function call:\")\n",
    "print(\"Immutable:\", immutable_var)\n",
    "print(\"Mutable:\", mutable_var)\n",
    "\n",
    "demonstrate(immutable_var, mutable_var)\n",
    "\n",
    "print(\"After function call:\")\n",
    "print(\"Immutable:\", immutable_var)\n",
    "print(\"Mutable:\", mutable_var)"
   ]
  },
  {
   "cell_type": "code",
   "execution_count": 5,
   "id": "110192b2-2b8d-4dff-91be-0943fcf825e9",
   "metadata": {},
   "outputs": [
    {
     "name": "stdin",
     "output_type": "stream",
     "text": [
      "enter first num: 10\n",
      "enter second num: 5\n"
     ]
    },
    {
     "name": "stdout",
     "output_type": "stream",
     "text": [
      "sum: 15\n",
      "difference: 5\n",
      "product: 50\n",
      "division: 2.0\n",
      "floor division: 2\n",
      "modulus: 0\n",
      "exponential: 100000\n"
     ]
    }
   ],
   "source": [
    "#7.Write a program that performs basic arithmetic operations on two user-input numbers.\n",
    "x=int(input(\"enter first num:\"))\n",
    "y=int(input(\"enter second num:\"))\n",
    "print(\"sum:\",x+y)\n",
    "print(\"difference:\",x-y)\n",
    "print(\"product:\",x*y)\n",
    "print(\"division:\",x/y)\n",
    "print(\"floor division:\",x//y)\n",
    "print(\"modulus:\",x%y)\n",
    "print(\"exponential:\",x**y)"
   ]
  },
  {
   "cell_type": "code",
   "execution_count": 6,
   "id": "a514ab6d-b667-453a-8af4-955db0d889bc",
   "metadata": {},
   "outputs": [
    {
     "name": "stdout",
     "output_type": "stream",
     "text": [
      "Both x and y are positive\n",
      "Either a or b is positive\n",
      "z is not greater than 10\n"
     ]
    }
   ],
   "source": [
    "#8.Write a program to demonstrate the use of logical operators.\n",
    "# Logical AND\n",
    "x = 5\n",
    "y = 10\n",
    "if x > 0 and y > 0:\n",
    "    print(\"Both x and y are positive\")\n",
    "\n",
    "# Logical OR\n",
    "a = -1\n",
    "b = 10\n",
    "if a > 0 or b > 0:\n",
    "    print(\"Either a or b is positive\")\n",
    "\n",
    "# Logical NOT\n",
    "z = 5\n",
    "if not z > 10:\n",
    "    print(\"z is not greater than 10\")"
   ]
  },
  {
   "cell_type": "code",
   "execution_count": 19,
   "id": "9ab5f245-d17f-4910-b595-66bfb5135b66",
   "metadata": {},
   "outputs": [
    {
     "name": "stdin",
     "output_type": "stream",
     "text": [
      "Enter a numeric string: 0\n"
     ]
    },
    {
     "name": "stdout",
     "output_type": "stream",
     "text": [
      "0\n",
      "0.0\n",
      "False\n"
     ]
    }
   ],
   "source": [
    "#9. Write a Python program to convert user input from string to integer, float, and boolean types.\n",
    "x=input(\"Enter a numeric string:\")\n",
    "#string to int\n",
    "print(int(x))\n",
    "#string to float\n",
    "print(float(x))\n",
    "#string to bool,here first convert to int then bool otherwise it shows true for '0' as a string input\n",
    "print(bool(int(x)))"
   ]
  },
  {
   "cell_type": "code",
   "execution_count": 14,
   "id": "28b994bd-cfce-409d-95a0-b59de46c3f7a",
   "metadata": {},
   "outputs": [
    {
     "name": "stdout",
     "output_type": "stream",
     "text": [
      "<class 'list'>\n",
      "[23, 4, 3, 0]\n",
      "[23.0, 4.5, 3.0, 0.0]\n",
      "['23', '4.5', '3', '0']\n",
      "[True, True, True, False]\n"
     ]
    }
   ],
   "source": [
    "#10.Write code to demonstrate type casting with list elements.\n",
    "l=[23,4.5,\"3\",0]\n",
    "print(type(l))\n",
    "#list to int\n",
    "a=[int(x) for x in l]\n",
    "print(a)\n",
    "#list to float\n",
    "b=[float(x) for x in l]\n",
    "print(b)\n",
    "#list to string\n",
    "c=[str(x) for x in l]\n",
    "print(c)\n",
    "#list to bool\n",
    "d=[bool(x) for x in l]\n",
    "print(d)"
   ]
  },
  {
   "cell_type": "code",
   "execution_count": 2,
   "id": "2fbfbb82-3fab-4255-b03b-d6dde783f8da",
   "metadata": {},
   "outputs": [
    {
     "name": "stdin",
     "output_type": "stream",
     "text": [
      "enter number: 4\n"
     ]
    },
    {
     "name": "stdout",
     "output_type": "stream",
     "text": [
      "Positive number\n"
     ]
    }
   ],
   "source": [
    "#11. Write a program that checks if a number is positive, negative, or zero.\n",
    "x=int(input(\"enter number:\"))\n",
    "if x>0:\n",
    "    print(\"Positive number\")\n",
    "elif x==0:\n",
    "    print(\"Zero\")\n",
    "else:\n",
    "    print(\"negative number\")"
   ]
  },
  {
   "cell_type": "code",
   "execution_count": 3,
   "id": "74d74236-48c3-425f-ac42-b219286f98cc",
   "metadata": {},
   "outputs": [
    {
     "name": "stdout",
     "output_type": "stream",
     "text": [
      "1,2,3,4,5,6,7,8,9,10,"
     ]
    }
   ],
   "source": [
    "#12. Write a for loop to print numbers from 1 to 10.\n",
    "for x in range(1,11):\n",
    "    print(x,end=\",\")"
   ]
  },
  {
   "cell_type": "code",
   "execution_count": 6,
   "id": "1c78d0a1-c534-4bbb-82e6-2fd6379e8763",
   "metadata": {},
   "outputs": [
    {
     "name": "stdout",
     "output_type": "stream",
     "text": [
      "the sum of all even numbers between 1 and 50 is 650\n"
     ]
    }
   ],
   "source": [
    "#13.Write a Python program to find the sum of all even numbers between 1 and 50.\n",
    "sum=0\n",
    "for x in range(2,51,2):\n",
    "    sum=sum+x\n",
    "print(\"the sum of all even numbers between 1 and 50 is\",sum)"
   ]
  },
  {
   "cell_type": "code",
   "execution_count": 10,
   "id": "93b45025-fc0d-4b80-b5ae-ab895461503a",
   "metadata": {},
   "outputs": [
    {
     "name": "stdin",
     "output_type": "stream",
     "text": [
      "enter string: abinash\n"
     ]
    },
    {
     "name": "stdout",
     "output_type": "stream",
     "text": [
      "reverse is: hsaniba\n"
     ]
    }
   ],
   "source": [
    "#14. Write a program to reverse a string using a while loop.\n",
    "x=input(\"enter string:\")\n",
    "y=len(x)-1\n",
    "str=\"\"\n",
    "while y>-1:\n",
    "    str=str+x[y]\n",
    "    y=y-1\n",
    "print(\"reverse is:\",str)"
   ]
  },
  {
   "cell_type": "code",
   "execution_count": 12,
   "id": "eb54b2a2-30b6-4980-9894-1ce376f8c210",
   "metadata": {},
   "outputs": [
    {
     "name": "stdin",
     "output_type": "stream",
     "text": [
      "enter number: 5\n"
     ]
    },
    {
     "name": "stdout",
     "output_type": "stream",
     "text": [
      "factorial is: 120\n"
     ]
    }
   ],
   "source": [
    "#15. Write a Python program to calculate the factorial of a number provided by the user using a while loop.\n",
    "x=int(input(\"enter number:\"))\n",
    "fac=1\n",
    "while x>0:\n",
    "    fac=fac*x\n",
    "    x=x-1\n",
    "print(\"factorial is:\",fac)"
   ]
  },
  {
   "cell_type": "code",
   "execution_count": null,
   "id": "389d0de2-60f2-4482-aed7-72baf8fdf621",
   "metadata": {},
   "outputs": [],
   "source": []
  }
 ],
 "metadata": {
  "kernelspec": {
   "display_name": "Python 3 (ipykernel)",
   "language": "python",
   "name": "python3"
  },
  "language_info": {
   "codemirror_mode": {
    "name": "ipython",
    "version": 3
   },
   "file_extension": ".py",
   "mimetype": "text/x-python",
   "name": "python",
   "nbconvert_exporter": "python",
   "pygments_lexer": "ipython3",
   "version": "3.13.3"
  }
 },
 "nbformat": 4,
 "nbformat_minor": 5
}
